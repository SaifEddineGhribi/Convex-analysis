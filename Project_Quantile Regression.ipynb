{
 "cells": [
  {
   "cell_type": "markdown",
   "metadata": {},
   "source": [
    "<center> <font color=\"blue\"><h1>  Computer Lab : Quantile Regression </h1> </center>"
   ]
  },
  {
   "cell_type": "markdown",
   "metadata": {},
   "source": [
    "<center> <h3> Done by :Saif Eddine GHRIBI & Mohamed Skander HELLAL </h3> </center>"
   ]
  },
  {
   "cell_type": "markdown",
   "metadata": {},
   "source": [
    "# TABLE OF CONTENTS\n",
    "\n",
    "[1. Data](#Data)<br>\n",
    "[2. Quantile regression with linear kernels](#Quantile)<br>\n",
    "[3. Implementation](#Implementation)<br>\n",
    "\n"
   ]
  },
  {
   "cell_type": "markdown",
   "metadata": {},
   "source": [
    "<a id='Data'></a>\n",
    "## 1. Data"
   ]
  },
  {
   "cell_type": "code",
   "execution_count": 1,
   "metadata": {
    "colab": {},
    "colab_type": "code",
    "id": "DVFH5XJE6xV9"
   },
   "outputs": [],
   "source": [
    "from census_dataset import load_data\n",
    "import numpy as np\n",
    "import matplotlib.pyplot as plt\n",
    "import random \n",
    "from scipy.optimize import check_grad\n",
    "import time"
   ]
  },
  {
   "cell_type": "code",
   "execution_count": 2,
   "metadata": {
    "colab": {},
    "colab_type": "code",
    "id": "x-STwtyf7Fsp"
   },
   "outputs": [
    {
     "name": "stdout",
     "output_type": "stream",
     "text": [
      "(50373, 10)\n"
     ]
    }
   ],
   "source": [
    "X_train, X_test, y_train, y_test = load_data(test_size=0.99)\n",
    "y_train = y_train.reshape(y_train.shape[0],1)\n",
    "print(np.shape(X_train))"
   ]
  },
  {
   "cell_type": "markdown",
   "metadata": {
    "colab": {
     "base_uri": "https://localhost:8080/",
     "height": 34
    },
    "colab_type": "code",
    "executionInfo": {
     "elapsed": 702,
     "status": "ok",
     "timestamp": 1576138542045,
     "user": {
      "displayName": "Ghribi Saif eddine",
      "photoUrl": "https://lh3.googleusercontent.com/a-/AAuE7mD7z26Oe5-lZzCboJXvkeojSIcJPcak5jPoWo3HVg=s64",
      "userId": "17019941870058284400"
     },
     "user_tz": -60
    },
    "id": "p3BQiu1E7NFH",
    "outputId": "dfede404-7f55-4a3f-fc13-35b39d669cc4"
   },
   "source": [
    "<a id='Quantile'></a>\n",
    "## 2. Quantile regression with linear kernels"
   ]
  },
  {
   "cell_type": "markdown",
   "metadata": {
    "colab": {},
    "colab_type": "code",
    "id": "ejDVTG8P7QwG"
   },
   "source": [
    "### Question 2.1\n",
    "<p> For $\\tau \\in [0,1]$, let's us consider the pinball loss defined as $L_{\\tau}(v) = max(-(1-\\tau)v,\\tau v)$ </p>\n",
    "<p> Calculate $L_{\\tau}^* ,\\,$ $prox_{\\gamma L_{\\tau}^*}(v) \\,$ and $ \\,prox_{\\gamma L_{\\tau}}(v) \\:$ for $\\gamma > 0$ </p>"
   ]
  },
  {
   "cell_type": "markdown",
   "metadata": {},
   "source": [
    "#### ANSWER\n",
    "\n",
    " We have $$ L_{\\tau}(v) = max(-(1-\\tau)v,\\tau v) = \\begin{cases} & -(1-\\tau)v &\\mathrm{if} v\\leq 0, \n",
    "         \\\\ & \\tau v &\\mathrm{if} v >0 \n",
    "\\end{cases}$$ \n",
    "\n",
    "<p>The $L_{\\tau}$ Legendre Transformation  can be written as follows : \n",
    "   $$ L_{\\tau}^*(\\phi) =  \\operatorname*{sup}_{v} (\\langle \\phi ,v \\rangle - L_{\\tau}(v)) =\\operatorname*{sup}_{v} (\\phi v - L_{\\tau}(v)) $$ </p>\n",
    "\n",
    "<p> $\\bullet$ <b> First Case : if $\\phi > \\tau$ and v>0</b>  </p>\n",
    "<p> We can write  $L_{\\tau}$ Legendre Tranformation :\n",
    "    $$ L_{\\tau}^*(\\phi) = \\operatorname*{sup}_{v} ((\\phi - \\tau ) v) $$\n",
    "As  $\\phi > \\tau$ We can conclude that : \n",
    "    $$ L_{\\tau}^*(\\phi) = +\\infty$$\n",
    "    </p>\n",
    "\n",
    "<p> From the first case, we can conclude that for $\\phi > \\tau$ we have $ L_{\\tau}^*(\\phi) = +\\infty$. We do not need to check the case of v $\\leq$ 0 </p>\n",
    "\n",
    "<p> $\\bullet$ <b> Second Case : if $\\phi < -(1-\\tau)$ and v $\\leq$ 0 </b> </p>\n",
    "<p> We can write  $L_{\\tau}$ Legendre Tranformation :\n",
    "    $$ L_{\\tau}^*(\\phi) = \\operatorname*{sup}_{v} ((\\phi + 1 - \\tau ) v) $$\n",
    "As  $\\phi < -(1-\\tau)$ We can conclude that : \n",
    "    $$ L_{\\tau}^*(\\phi) = +\\infty$$\n",
    "    </p>\n",
    "<p> From the second case, we can conclude that for $\\phi < -(1-\\tau)$ we have $ L_{\\tau}^*(\\phi) = +\\infty$. We do not need to check the case of v > 0 </p> \n",
    "\n",
    "<p> $\\bullet$ <b> Third Case : if $-(1-\\tau) \\leq \\phi \\leq \\tau$</b> </p>\n",
    "<p> $ \\quad\\bullet$ <b> if v> 0 :</b>\n",
    "    $$ L_{\\tau}^*(\\phi) = \\operatorname*{sup}_{v} ((\\phi-\\tau ) v) $$\n",
    "$\\qquad$As  $\\phi \\leq \\tau$ We can conclude that : \n",
    "    $$ L_{\\tau}^*(\\phi) = 0$$\n",
    "<p> $ \\quad\\bullet$ <b> if v $\\leq$ 0 :</b>\n",
    "    $$ L_{\\tau}^*(\\phi) = \\operatorname*{sup}_{v} ((\\phi+1-\\tau ) v) $$\n",
    "$\\qquad$As  $-(1-\\tau) \\leq \\phi$ We can conclude that : \n",
    "    $$ L_{\\tau}^*(\\phi) = 0$$  \n",
    "<p> From the third case, we can conclude that for $-(1-\\tau) \\leq \\phi \\leq \\tau$: $$L_{\\tau}^*(\\phi) = 0$$</p>     \n",
    "</div>"
   ]
  },
  {
   "cell_type": "markdown",
   "metadata": {},
   "source": [
    "CONCLUSION\n",
    "$$ L_{\\tau}^{*}(v) =\\begin{cases} & +\\infty &\\mathrm{if} \\phi < -(1-\\tau) \n",
    "         \\\\ & 0 &\\mathrm{if}-(1-\\tau) \\leq \\phi \\leq \\tau\n",
    "         \\\\ & +\\infty &\\mathrm{if} \\phi > \\tau \n",
    "\\end{cases}$$ </p>"
   ]
  },
  {
   "cell_type": "markdown",
   "metadata": {},
   "source": [
    "####  ANSWER\n",
    " We have : $$ prox_{\\gamma L_{\\tau}^*}(v) = \\operatorname*{argmin}_{t}(\\gamma L_{\\tau}^*(t) + \\frac{1}{2}(t-v)^{2}) $$ \n",
    "However from the previous result obtained, we can obtain : \n",
    "        $$ prox_{\\gamma L_{\\tau}^*}(v) = \\operatorname*{argmin}_{-(1-\\tau) \\leq t \\leq \\tau}(\\frac{1}{2}(t-v)^{2}) = \\operatorname*{argmin}_{-(1-\\tau) \\leq t \\leq \\tau}((t-v)^{2}) $$ \n",
    "    \n",
    " <p> $\\bullet$ <b> First Case : if $v >\\tau$ </b>\n",
    " $$ -(1-\\tau) - v \\leq t-v \\leq \\tau -v \\leq 0 $$</p>  \n",
    " $\\qquad$ Then :  $$(\\tau -v)^2 \\leq (t-v)^2 \\leq(1-\\tau + v)^2 $$  \n",
    " $\\qquad$ As a result : $$ prox_{\\gamma L_{\\tau}^*}(v) = \\tau $$ </p>\n",
    " \n",
    " <p> $\\bullet$ <b> Second Case : if $v <-(1-\\tau)$ </b>\n",
    " $$  0 \\leq -(1-\\tau) - v \\leq t-v \\leq \\tau -v  $$</p>  \n",
    " $\\qquad$ Then :  $$ (-(1-\\tau) - v)^2 \\leq (t-v)^2 \\leq (\\tau -v) ^2 $$  \n",
    " $\\qquad$ As a result : $$ prox_{\\gamma L_{\\tau}^*}(v) = -(1-\\tau) $$ </p>\n",
    " \n",
    " <p> $\\bullet$ <b> Third Case : if $-(1-\\tau) \\leq v \\leq \\tau$ </b> </p>\n",
    "    \n",
    "<p> $\\qquad$ Then :  $(t-v)^2$ minimum is zero.As a result : $$ prox_{\\gamma L_{\\tau}^*}(v) = v $$ </p>"
   ]
  },
  {
   "cell_type": "markdown",
   "metadata": {},
   "source": [
    "#### CONCLUSION\n",
    "$$  prox_{\\gamma L_{\\tau}^*}(v) =\\begin{cases} & -(1-\\tau) &\\mathrm{if} v < -(1-\\tau) \n",
    "         \\\\ & v &\\mathrm{if}-(1-\\tau) \\leq v \\leq \\tau\n",
    "         \\\\ & \\tau &\\mathrm{if} v > \\tau \n",
    "\\end{cases}$$ </p>"
   ]
  },
  {
   "cell_type": "markdown",
   "metadata": {},
   "source": [
    "#### ANSWER\n",
    "\n",
    "\n",
    "<p> We have : $$ prox_{\\gamma L_{\\tau}}(v) = \\operatorname*{argmin}_{t}(\\gamma L_{\\tau}(t) + \\frac{1}{2}(t-v)^{2}) $$ </p>\n",
    "\n",
    "<p> Let's denote by f the function defined as follows:\n",
    "    $$ f(t) = \\frac{1}{2}(t-v)^{2} $$\n",
    "\n",
    "<p> Using <b> Fermat Rule </b>, we have \n",
    "    $$ t^{*} \\in \\operatorname*{argmin}_{t}(\\gamma L_{\\tau}(t) +f(t)) \\Leftrightarrow 0 \\in \\partial(\\gamma L_{\\tau}(t^*) +f(t^*)) $$</p> \n",
    "\n",
    "<p> However dom(f) =  $\\mathbb{R}$ and dom($\\gamma L_{\\tau}$) = $\\mathbb{R}$.From the results obtained,we can deduce that ri(dom(f) - dom(g))=$\\mathbb{R}$ </p>  \n",
    "\n",
    "<p>As 0 $\\in$  ri(dom(f) - dom(g)),we can deduce: \n",
    "    $$\\partial(\\gamma L_{\\tau}(t^*) +f(t^*)) = \\partial(\\gamma L_{\\tau}(t^*))+ \\partial f(t^*))$$ </p>\n",
    "    $$ \\partial f(t^*) = f'(t^*) = t^*-v $$ \n",
    "    $$   \\partial(\\gamma L_{\\tau}(t^*)) =\\begin{cases} & -\\gamma(1-\\tau) &\\mathrm{if} t^* <0 \n",
    "         \\\\ & \\gamma\\tau &\\mathrm{if} t^* >0\n",
    "         \\\\ & [-\\gamma(1-\\tau),\\gamma\\tau] &\\mathrm{if} t^* = 0\n",
    "\\end{cases}$$ </p>\n",
    "\n",
    "<p> $\\bullet$ <b> First Case : if $t^* < 0$ </b>\n",
    "    $$ 0 = t^*-v -\\gamma(1-\\tau) \\enspace,\\enspace t^* <0 $$\n",
    "    $$ \\Leftrightarrow t^* = v+ \\gamma(1 -\\tau)   \\enspace,\\enspace v < -\\gamma(1-\\tau)$$ \n",
    "    \n",
    "<p> $\\bullet$ <b> Second Case : if $t^* > 0$ </b>\n",
    "    $$ 0 = t*-v +\\gamma \\tau \\enspace,\\enspace t^* >0 $$\n",
    "    $$ \\Leftrightarrow t^* = v -\\gamma \\tau   \\enspace,\\enspace v > \\gamma\\tau$$     \n",
    "\n",
    "<p> $\\bullet$ <b> Third Case : if $t^* = 0$ </b>\n",
    "    $$ t^*=0 \\enspace,\\enspace v \\in [-\\gamma(1-\\tau),\\gamma\\tau] $$\n",
    "         "
   ]
  },
  {
   "cell_type": "markdown",
   "metadata": {},
   "source": [
    "#### CONCLUSION\n",
    "$$  prox_{\\gamma L_{\\tau}}(v) =\\begin{cases} &v+ \\gamma(1-\\tau) &\\mathrm{if} v < -(1-\\tau) \n",
    "         \\\\ & v-\\gamma\\tau &\\mathrm{if} v>\\gamma\\tau\n",
    "         \\\\ & 0&\\mathrm{if} v \\in [-\\gamma(1-\\tau),\\gamma\\tau] \n",
    "\\end{cases}$$ </p>"
   ]
  },
  {
   "cell_type": "markdown",
   "metadata": {},
   "source": [
    "### Question 2.2\n",
    "Define  $ \\begin{array}{ccccc}\n",
    "                      & & g : (w,w_{0}) & \\mapsto & \\frac{\\alpha}{2}\\Vert w \\Vert^2 \\\\  \n",
    "                   \\end{array}$. \n",
    "Calculate $prox_{\\gamma g}((w,w_{0})) $                  "
   ]
  },
  {
   "cell_type": "markdown",
   "metadata": {},
   "source": [
    "#### ANSWER\n",
    "<p> We have :\n",
    "$$ prox_{\\gamma g}((w,w_{0})) = \\operatorname*{argmin}_{(t,t_{0})}(\\frac{\\gamma\\alpha}{2}\\Vert t \\Vert^2 + \\frac{1}{2}\\Vert (t,t_{0}) -(w,w_{0}) \\Vert^2) = \\operatorname*{argmin}_{(t,t_{0})}(\\frac{\\gamma\\alpha}{2}\\Vert t \\Vert^2 +\\frac{1}{2}(t_{0}-w_{0})^2+\\frac{1}{2}\\Vert t-w \\Vert^2) $$</p>\n",
    "<p> we can see we have two separable functions, so we are going to compute the argmin for each one of them</p> \n",
    "<p> <p> Using <b> Fermat Rule </b>, we have \n",
    "    $$ t_{0}^{*} \\in \\operatorname*{argmin}_{t_{0}}(\\frac{\\gamma\\alpha}{2}\\Vert t \\Vert^2 +\\frac{1}{2}(t_{0}-w_{0})^2+\\frac{1}{2}\\Vert t-w \\Vert^2) \\Leftrightarrow 0 = t^*_{0}-w_{0} \\Leftrightarrow t^*_{0}=w_{0}  $$</p> \n",
    "    $$ t^{*} \\in \\operatorname*{argmin}_{t}(\\frac{\\gamma\\alpha}{2}\\Vert t \\Vert^2 +\\frac{1}{2}(t_{0}-w_{0})^2+\\frac{1}{2}\\Vert t-w \\Vert^2) \\Leftrightarrow 0 = \\gamma\\alpha t^* + t^*-w  \\Leftrightarrow t^*=\\frac{w}{1+\\gamma\\alpha} $$</p> "
   ]
  },
  {
   "cell_type": "markdown",
   "metadata": {},
   "source": [
    "#### CONCLUSION\n",
    "$$  prox_{\\gamma g}((w,w_{0})) = \\begin{pmatrix}\n",
    "                    \\frac{w}{1+\\gamma\\alpha} \\\\ \n",
    "                    w_{0} \\\\\n",
    "                    \\end{pmatrix}$$"
   ]
  },
  {
   "cell_type": "markdown",
   "metadata": {},
   "source": [
    "### Question 2.3\n",
    "For z $\\in$ $\\mathbb{R}^n$,denote $\\mathbb{L}_{\\tau}(z) =\\sum_{i=1}^{n}L_{\\tau}(z_{i})$  and e = $\\begin{pmatrix}\n",
    "                    1   \n",
    "                    ,\\ldots, \n",
    "                     1 \n",
    "\\end{pmatrix}$. Show that :\n",
    "$$ \n",
    "\\begin{aligned}\n",
    "\\operatorname*{min}_{w \\in \\mathbb{R}^d, w_{0} \\in \\mathbb{R}} \\frac{\\alpha}{2}\\Vert w \\Vert^2 + \\mathbb{L}_{\\tau}(y-xw-w_{0}e )\n",
    "&=\\operatorname*{min}_{w \\in \\mathbb{R}^d, w_{0}\\in \\mathbb{R}}\\operatorname*{max}_{z \\in \\mathbb{R}^n}\\frac{\\alpha}{2}\\Vert w \\Vert^2 - \\mathbb{L}_{\\tau}^*(z) + z^T(y-xw-w_{0}e) \\\\\n",
    "&= \\operatorname*{max}_{z \\in \\mathbb{R}^n}y^Tz -\\frac{1}{2\\alpha}\\Vert x^Tz \\Vert^2 - \\mathbb{L}_{\\tau}^*(z) -\\iota_{0}(e^Tz)\\\\\n",
    "&= \\operatorname*{max}_{z \\in \\mathbb{R}^n} \\operatorname*{min}_{u \\in \\mathbb{R}} y^Tz -\\frac{1}{2\\alpha}\\Vert x^Tz \\Vert^2 - \\mathbb{L}_{\\tau}^*(z)-ue^Tz\n",
    "\\end{aligned}\n",
    "$$"
   ]
  },
  {
   "cell_type": "markdown",
   "metadata": {},
   "source": [
    "#### ANSWER\n",
    "<p>We have dom($L_{\\tau}$) = $\\mathbb{R}$ , So dom($\\mathbb{L}_{\\tau}$) =$\\mathbb{R}^n$.As a result, ri(dom($\\mathbb{L}_{\\tau}$)= $\\mathbb{R}^n$ </p>\n",
    "<p> As ri(dom($\\mathbb{L}_{\\tau}$)= $\\mathbb{R}^n$, $\\partial L_{\\tau}(y-xw-w_{0}e)\\ne \\emptyset$.$\\enspace$As a result,using <b>Fenchel Young </b>, $\\exists z \\in  \\partial L_{\\tau}(y-xw-w_{0}e)$ such that :\n",
    "$$ L_{\\tau}(y-xw-w0e) = <z,y-xw-w_{0}> - L_{\\tau}^*(z)$$  </p>\n",
    "<p> Therefore, $$ \\frac{\\alpha}{2} \\Vert w \\Vert ^2 + L_{\\tau}(y-xw-w_{0}e) = \\frac{\\alpha}{2} \\Vert w \\Vert ^2 + z^T(y-xw-w_{0})-L_{\\tau}^*(z)$$ </p>\n",
    "\n",
    "<p> As a result, $$ \\frac{\\alpha}{2} \\Vert w \\Vert ^2 + L_{\\tau}(y-xw-w_{0}e) = \\operatorname*{max}_{z \\in \\mathbb{R}^n}\\frac{\\alpha}{2}\\Vert w \\Vert^2 - \\mathbb{L}_{\\tau}^*(z) + z^T(y-xw-w_{0}e)$$ </p>\n",
    "\n",
    "<p>Then, $$ \\operatorname*{min}_{w \\in \\mathbb{R}^d, w_{0} \\in \\mathbb{R}} \\frac{\\alpha}{2}\\Vert w \\Vert^2 + \\mathbb{L}_{\\tau}(y-xw-w_{0}e )\n",
    "=\\operatorname*{min}_{w \\in \\mathbb{w}^d, w_{0}\\in \\mathbb{R}}\\operatorname*{max}_{z \\in \\mathbb{R}^n}\\frac{\\alpha}{2}\\Vert w \\Vert^2 - \\mathbb{L}_{\\tau}^*(z) + z^T(y-xw-w_{0}e)$$ </p> \n",
    "\n"
   ]
  },
  {
   "cell_type": "markdown",
   "metadata": {},
   "source": [
    "#### CONCLUSION\n",
    "<p>$$ \\operatorname*{min}_{w \\in \\mathbb{R}^d, w_{0} \\in \\mathbb{R}} \\frac{\\alpha}{2}\\Vert w \\Vert^2 + \\mathbb{L}_{\\tau}(y-xw-w_{0}e )\n",
    "=\\operatorname*{min}_{w \\in \\mathbb{w}^d, w_{0}\\in \\mathbb{R}}\\operatorname*{max}_{z \\in \\mathbb{R}^n}\\frac{\\alpha}{2}\\Vert w \\Vert^2 - \\mathbb{L}_{\\tau}^*(z) + z^T(y-xw-w_{0}e)$$ </p> "
   ]
  },
  {
   "cell_type": "markdown",
   "metadata": {},
   "source": [
    "####  ANSWER\n",
    "<p> We have $$ \\frac{\\alpha}{2}\\Vert w \\Vert^2 - \\mathbb{L}_{\\tau}^*(z) + z^T(y-xw-w_{0}e) \n",
    "               = \\frac{\\alpha}{2}\\Vert w \\Vert^2 - \\mathbb{L}_{\\tau}^*(z)+ z^T y -<M.(w,w_{0}),z> $$ </p>\n",
    "<p> Where M is the matrix X with an additionnal column of ones : M=(X,e) </p>   \n",
    "<p> Now if we consider a function g defined as follows : \n",
    "    $$  g(v) = L_{\\tau}(y-v)$$ </p>\n",
    "    \n",
    "<p>    $$\\begin{aligned}\n",
    "    g^*(z) &=\\operatorname*{sup}_{v} <z,v> - L_{\\tau}(y-v)\\\\\n",
    "           &=\\operatorname*{sup}_{v} <z,y-v> - L_{\\tau}(v)\\\\\n",
    "           &=<z,y> + \\operatorname*{sup}_{v} <-z,v> - L_{\\tau}(v)\\\\\n",
    "           &= z^Ty +L_{\\tau}^*(-z)\n",
    "           \\end{aligned}\n",
    "           $$ </p>\n",
    "           \n",
    "<p> However, we have : \n",
    "    $$ \\operatorname*{min}_{w \\in \\mathbb{w}^d, w_{0}\\in \\mathbb{R}}\\operatorname*{max}_{z \\in \\mathbb{R}^n}\\frac{\\alpha}{2}\\Vert w \\Vert^2 - \\mathbb{L}_{\\tau}^*(z)+ z^T y - <M(w,w_{0}),z> = \\operatorname*{min}_{w \\in \\mathbb{w}^d, w_{0}\\in \\mathbb{R}}\\operatorname*{max}_{z \\in \\mathbb{R}^n}\\frac{\\alpha}{2}\\Vert w \\Vert^2 - \\mathbb{L}_{\\tau}^*(-z)-z^T y - <M.(w,w_{0}),-z>$$ </p>\n",
    "    \n",
    "<p> However, \n",
    "    $$ \\frac{\\alpha}{2}\\Vert w \\Vert^2 - \\mathbb{L}_{\\tau}^*(-z)-z^T y - <M.(w,w_{0}),-z> = f(w,w_{0}) + <M.(w,w_{0}),z> -g^*(z) $$ </p>\n",
    "\n",
    " However, $$ dom(f) = \\mathbb{R}^{d+1}\\enspace ,\\enspace dom(g) = \\mathbb{R}^n$$ </p>\n",
    " <p> As a result,  $$ Mdom(f) - dom(g) =\\mathbb{R}^n$$ \n",
    "                   $$ 0 \\in ri(M'dom(f) - dom(g))$$\n",
    " </p>\n",
    "<p> From  the previous result we can conclude that \n",
    "    $$\\operatorname*{min}_{w \\in \\mathbb{w}^d, w_{0}\\in \\mathbb{R}}\\operatorname*{max}_{z \\in \\mathbb{R}^n}\\frac{\\alpha}{2}\\Vert w \\Vert^2 - \\mathbb{L}_{\\tau}^*(-z)-z^T y - <M.(w,w_{0}),-z> = \\operatorname*{max}_{z \\in \\mathbb{R}^n}\\operatorname*{min}_{w \\in \\mathbb{w}^d, w_{0}\\in \\mathbb{R}}\\frac{\\alpha}{2}\\Vert w \\Vert^2 - \\mathbb{L}_{\\tau}^*(-z)-z^T y - <M.(w,w_{0}),-z>$$ </p>\n",
    "<p> And     \n",
    "   $$ \\operatorname*{max}_{z \\in \\mathbb{R}^n}\\operatorname*{min}_{w \\in \\mathbb{w}^d, w_{0}\\in \\mathbb{R}}\\frac{\\alpha}{2}\\Vert w \\Vert^2 - \\mathbb{L}_{\\tau}^*(-z)-z^T y - <M.(w,w_{0}),-z> = \\operatorname*{max}_{z \\in \\mathbb{R}^n}\\operatorname*{min}_{w \\in \\mathbb{w}^d, w_{0}\\in \\mathbb{R}}\\frac{\\alpha}{2}\\Vert w \\Vert^2 - \\mathbb{L}_{\\tau}^*(z)+z^T y - <M.(w,w_{0}),z> $$ </p>\n",
    "   \n",
    "<p> Now we are going to compute \n",
    "    $$ \\operatorname*{min}_{w \\in \\mathbb{w}^d, w_{0}\\in \\mathbb{R}}\\frac{\\alpha}{2}\\Vert w \\Vert^2 - \\mathbb{L}_{\\tau}^*(z)+z^T y - <M.(w,w_{0}),z> = \\operatorname*{min}_{w \\in \\mathbb{w}^d, w_{0}\\in \\mathbb{R}}\\frac{\\alpha}{2}\\Vert w \\Vert^2 - \\mathbb{L}_{\\tau}^*(z) + z^T(y-xw-w_{0}e)$$ </p>\n",
    "    \n",
    "<p> Let's denote by h the function defined as follows :\n",
    "    $$ h(w,w_{0}) = \\frac{\\alpha}{2}\\Vert w \\Vert^2 - \\mathbb{L}_{\\tau}^*(z) + z^T(y-xw-w_{0}e) $$ </p>\n",
    "<p> As the function is differentiable , we are going to calculate the gradient to obtain the minimum    \n",
    "    $$ \\nabla_{w}h(w,w_{0})= \\alpha w -x^Tz = 0$$\n",
    "    $$ \\nabla_{w_{0}}h(w,w0) = z^Te = 0$$ </p>\n",
    "<p> As a result \n",
    "    $$ w = \\frac{x^Tz}{\\alpha}$$\n",
    "    $$ z^Te = 0 $$\n",
    "    </p>\n",
    "<p> Let's define \n",
    "    $$  \\iota_{0}(e^Tz) =\\begin{cases} &0 &\\mathrm{if} e^Tz = 0 \n",
    "         \\\\ & +\\infty & otherwise \n",
    "\\end{cases}$$ </p>\n",
    "\n",
    "<p> From the different results obtaine we obtain\n",
    "    $$\\operatorname*{min}_{w \\in \\mathbb{R}^d, w_{0}\\in \\mathbb{R}}\\operatorname*{max}_{z \\in \\mathbb{R}^n}\\frac{\\alpha}{2}\\Vert w \\Vert^2 - \\mathbb{L}_{\\tau}^*(z) + z^T(y-xw-w_{0}e) \n",
    "= \\operatorname*{max}_{z \\in \\mathbb{R}^n}y^Tz -\\frac{1}{2\\alpha}\\Vert x^Tz \\Vert^2 - \\mathbb{L}_{\\tau}^*(z) -\\iota_{0}(e^Tz)$$ </p>\n",
    "<p> Using $\\iota_{0}(e^Tz)$ in $\\operatorname*{max}_{z \\in \\mathbb{R}^n}y^Tz -\\frac{1}{2\\alpha}\\Vert x^Tz \\Vert^2 - \\mathbb{L}_{\\tau}^*(z) -\\iota_{0}(e^Tz)$ as we the expression contains $-\\iota_{0}(e^Tz)$ and  we are dealing with a maximisation problem  </p>"
   ]
  },
  {
   "cell_type": "markdown",
   "metadata": {},
   "source": [
    "#### CONCLUSION\n",
    "\n",
    "$$\\operatorname*{min}_{w \\in \\mathbb{R}^d, w_{0}\\in \\mathbb{R}}\\operatorname*{max}_{z \\in \\mathbb{R}^n}\\frac{\\alpha}{2}\\Vert w \\Vert^2 - \\mathbb{L}_{\\tau}^*(z) + z^T(y-xw-w_{0}e) \n",
    "= \\operatorname*{max}_{z \\in \\mathbb{R}^n}y^Tz -\\frac{1}{2\\alpha}\\Vert x^Tz \\Vert^2 - \\mathbb{L}_{\\tau}^*(z) -\\iota_{0}(e^Tz)$$"
   ]
  },
  {
   "cell_type": "markdown",
   "metadata": {},
   "source": [
    "#### ANSWER\n",
    "<p> Let's denote by h the function defined as follows\n",
    "    \n",
    "$$h(u)= y^Tz -\\frac{1}{2\\alpha}\\Vert x^Tz \\Vert^2 - \\mathbb{L}_{\\tau}^*(z)-ue^Tz$$ </p>\n",
    "<p> h is a differentiable function.Therefore, to compute $ \\operatorname*{min}_{u \\in \\mathbb{R}} y^Tz -\\frac{1}{2\\alpha}\\Vert x^Tz \\Vert^2 - \\mathbb{L}_{\\tau}^*(z)-ue^Tz$, we are going to calcute the gradient of h\n",
    "$$ \\nabla_{u} h(u) = e^Tz = 0 $$ </p>\n",
    "\n",
    "<p> <p> Let's define \n",
    "    $$  \\iota_{0}(e^Tz) =\\begin{cases} &0 &\\mathrm{if} e^Tz = 0 \n",
    "         \\\\ & +\\infty & otherwise \n",
    "\\end{cases}$$ </p> \n",
    " <p> As a result we can conclude that,\n",
    "  $$ \\operatorname*{max}_{z \\in \\mathbb{R}^n} \\operatorname*{min}_{u \\in \\mathbb{R}} y^Tz -\\frac{1}{2\\alpha}\\Vert x^Tz \\Vert^2 - \\mathbb{L}_{\\tau}^*(z)-ue^Tz  = \\operatorname*{max}_{z \\in \\mathbb{R}^n}y^Tz -\\frac{1}{2\\alpha}\\Vert x^Tz \\Vert^2 - \\mathbb{L}_{\\tau}^*(z) -\\iota_{0}(e^Tz) $$\n",
    "  <p> Using $\\iota_{0}(e^Tz)$ in $\\operatorname*{max}_{z \\in \\mathbb{R}^n}y^Tz -\\frac{1}{2\\alpha}\\Vert x^Tz \\Vert^2 - \\mathbb{L}_{\\tau}^*(z) -\\iota_{0}(e^Tz)$ as we the expression contains $-\\iota_{0}(e^Tz)$ and  we are dealing with a maximisation problem  </p>"
   ]
  },
  {
   "cell_type": "markdown",
   "metadata": {},
   "source": [
    "#### CONCLUSION\n",
    "$$ \\operatorname*{max}_{z \\in \\mathbb{R}^n} \\operatorname*{min}_{u \\in \\mathbb{R}} y^Tz -\\frac{1}{2\\alpha}\\Vert x^Tz \\Vert^2 - \\mathbb{L}_{\\tau}^*(z)-ue^Tz  = \\operatorname*{max}_{z \\in \\mathbb{R}^n}y^Tz -\\frac{1}{2\\alpha}\\Vert x^Tz \\Vert^2 - \\mathbb{L}_{\\tau}^*(z) -\\iota_{0}(e^Tz)$$"
   ]
  },
  {
   "cell_type": "markdown",
   "metadata": {},
   "source": [
    "#### RESULT\n",
    "$$ \n",
    "\\begin{aligned}\n",
    "\\operatorname*{min}_{w \\in \\mathbb{R}^d, w_{0} \\in \\mathbb{R}} \\frac{\\alpha}{2}\\Vert w \\Vert^2 + \\mathbb{L}_{\\tau}(y-xw-w_{0}e )\n",
    "&=\\operatorname*{min}_{w \\in \\mathbb{R}^d, w_{0}\\in \\mathbb{R}}\\operatorname*{max}_{z \\in \\mathbb{R}^n}\\frac{\\alpha}{2}\\Vert w \\Vert^2 - \\mathbb{L}_{\\tau}^*(z) + z^T(y-xw-w_{0}e) \\\\\n",
    "&= \\operatorname*{max}_{z \\in \\mathbb{R}^n}y^Tz -\\frac{1}{2\\alpha}\\Vert x^Tz \\Vert^2 - \\mathbb{L}_{\\tau}^*(z) -\\iota_{0}(e^Tz)\\\\\n",
    "&= \\operatorname*{max}_{z \\in \\mathbb{R}^n} \\operatorname*{min}_{u \\in \\mathbb{R}} y^Tz -\\frac{1}{2\\alpha}\\Vert x^Tz \\Vert^2 - \\mathbb{L}_{\\tau}^*(z)-ue^Tz\n",
    "\\end{aligned}\n",
    "$$"
   ]
  },
  {
   "cell_type": "markdown",
   "metadata": {},
   "source": [
    "<a id='Implementation'></a>\n",
    "## 3. Implementation"
   ]
  },
  {
   "cell_type": "markdown",
   "metadata": {},
   "source": [
    "### Question 3.1\n",
    "Implement at least two algorithms for the resolution of the quantile regression problem. You\n",
    "may choose test size = 0.99 in order to test your algorithm on small data."
   ]
  },
  {
   "cell_type": "markdown",
   "metadata": {},
   "source": [
    "#### First Algorithm\n",
    "<b>Proximal Gradient and The Douglas-Rachford Algorithm</b>\n",
    "</div>"
   ]
  },
  {
   "cell_type": "markdown",
   "metadata": {},
   "source": [
    "#### APPROACH\n",
    "    For the first algorithm we will try to solve the equivalent following system: \n",
    "$$ \\operatorname*{max}_{z \\in \\mathbb{R}^n}y^Tz -\\frac{1}{2\\alpha}\\Vert x^Tz \\Vert^2 - \\mathbb{L}_{\\tau}^*(z) -\\iota_{0}(e^Tz)\\\\ $$ \n",
    "which is also equivalent to : \n",
    "$$ \\operatorname*{-min}_{z \\in \\mathbb{R}^n}-y^Tz+ \\frac{1}{2\\alpha}\\Vert x^Tz \\Vert^2 + \\mathbb{L}_{\\tau}^*(z) +\\iota_{0}(e^Tz)\\\\ $$ \n",
    "Let f and R be as following : \n",
    "$$ R(z) =  \\mathbb{L}_{\\tau}^*(z) +\\iota_{0}(e^Tz) $$ \n",
    "$$ f(z) = -y^Tz+ \\frac{1}{2\\alpha}\\Vert x^Tz \\Vert^2 $$  \n",
    "The problem can then be solved with the proximal gradient as follows : \n",
    "$$ z^{k+1} = prox_{\\gamma_0R} (z^k - \\gamma_0\\nabla f(z^k)) $$\n",
    "let's now compute $prox_{\\gamma_0R}(z) $ : \n",
    "\n",
    "$$ prox_{\\gamma_0R}(z)  =  \\operatorname*{argmin}_{u\\in \\mathbb{R}^n} \\gamma_0 \\mathbb{L}_{\\tau}^*(u) + \\gamma_0 \\iota_{0}(e^Tu) + \\frac{1}{2} \\Vert u-z \\Vert^2 $$\n",
    "This prox can be computed using the algorithm of Douglas-Rachford as follows : <br>\n",
    "let h and $g_z$ be as follows: \n",
    "$$ h(u) = \\gamma_0 \\mathbb{L}_{\\tau}^*(u)$$ \n",
    "$$ g_z(u) = \\gamma_0 \\iota_{0}(e^Tu) + \\frac{1}{2} \\Vert u-z \\Vert^2 $$ \n",
    "$$ v^{k+1} = prox_{\\gamma_1g_z} (u^k) $$ \n",
    "$$ u^{k+1} = prox_{\\gamma_2h} (2 v^{k+1} - u^k) - v^{k+1} + u^k $$ \n",
    "\n",
    "the $prox_{\\gamma_2h}(v)$ is computed as in Question 2 as follows : \n",
    "\n",
    "$$  prox_{\\gamma_2h}(v) =\\begin{cases} & -(1-\\tau) &\\mathrm{if} v < -(1-\\tau) \n",
    "         \\\\ & v &\\mathrm{if}-(1-\\tau) \\leq v \\leq \\tau\n",
    "         \\\\ & \\tau &\\mathrm{if} v > \\tau \n",
    "\\end{cases}$$ \n",
    "\n",
    "Let's now compute $prox_{\\gamma_1g_z} (y) $ \n",
    "$$ prox_{\\gamma_1g_z} (y) =\\operatorname*{argmin}_{t\\in \\mathbb{R}^n} \\gamma_0\\gamma_1 \\iota_{0}(e^Tt) + \\frac{\\gamma_1}{2} \\Vert t-z \\Vert^2  + \\frac{1}{2} \\Vert t-y \\Vert^2 $$ \n",
    "This problem is equivalent to the following problem : \n",
    " $$ \\begin{cases} & \\operatorname*{argmin}_{t\\in \\mathbb{R}^n} \\frac{\\gamma_1}{2} \\Vert t-z \\Vert^2  + \\frac{1}{2} \\Vert t-y \\Vert^2 \n",
    " \\\\ & \\sum_{i=1}^n t_i = 0\n",
    "\\end{cases}$$ \n",
    "This problem can be solved using the K.K.T.  as follows : \n",
    "<br> \n",
    "let L be the lagrangian function : <br> \n",
    "$$ L(t,\\lambda) = \\frac{\\gamma_1}{2} \\Vert t-z \\Vert^2  + \\frac{1}{2} \\Vert t-y \\Vert^2 + \\lambda \\sum_{i=1}^n t_i $$ \n",
    "$$ \\frac{\\partial L}{\\partial \\lambda} = 0=> \\sum_{i=1}^n t_i = 0 $$\n",
    "$$\\frac{\\partial L}{\\partial t} = 0=>  \\gamma_1(t^*-z) + (t^*-y) + \\lambda e = 0$$ \n",
    "$$with\\ \\  e = (1,....,1)^T $$ \n",
    "\n",
    "Thus :\n",
    "$$t^*=t_z^*(y) = \\frac{1}{\\gamma_1 + 1} (\\lambda e - \\gamma_1 z - y)$$ \n",
    "With : \n",
    "$$\\lambda = \\frac{\\gamma_1 \\sum_{i=1}^{n}z_i  +  \\sum_{i=1}^{n}y_i}{n}$$ \n",
    "Conclusion : \n",
    "$$prox_{\\gamma_1g_z} (y) = t_z^*(y) $$\n",
    "\n",
    "Now that we have \n",
    "$$ prox_{\\gamma_0R} (z^k - \\gamma_0\\nabla f(z^k)) = u^\\infty(z^k - \\gamma_0\\nabla f(z^k))$$\n",
    "<br> With u is as defined above in the  Douglas-Rachford where $u^\\infty$ = $u^k$ ,$k \\rightarrow +\\infty$ <br><br>\n",
    "\n",
    "Only the $\\nabla f(z^k)$ is left to compute to implement the algorithm : \n",
    "\n",
    "$$ \\nabla f(z) = \\frac{1}{2\\alpha} XX^Tz - y  $$\n",
    "\n"
   ]
  },
  {
   "cell_type": "markdown",
   "metadata": {},
   "source": [
    "#### Implementation of the First Algorithm\n",
    "<b>Proximal Gradient and The Douglas-Rachford Algorithm</b>\n",
    "</div>"
   ]
  },
  {
   "cell_type": "code",
   "execution_count": 4,
   "metadata": {},
   "outputs": [],
   "source": [
    "#initialization of the parameters \n",
    "tho = 0.7\n",
    "L = np.linalg.norm(X_train ,ord = 2 ) **2\n",
    "gamma = 1.95/L \n",
    "gamma1 = 1\n",
    "alpha = 1 \n",
    "n = X_train.shape[0]\n",
    "z_init = np.ones(n) \n",
    "u_init = 1"
   ]
  },
  {
   "cell_type": "code",
   "execution_count": 34,
   "metadata": {},
   "outputs": [],
   "source": [
    "def prox_fenchel(y, tho=tho):\n",
    "    \"\"\"\n",
    "    Input\n",
    "    y : an input vector\n",
    "    tho: quantile : parameter of the problem\n",
    "    Ouput\n",
    "    vector of proximal fenchel\n",
    "    \"\"\"\n",
    "\n",
    "    y[y > tho] = tho\n",
    "    y[y < tho - 1] = tho - 1\n",
    "\n",
    "    return y\n",
    "\n",
    "\n",
    "def prox_lagrange(y, z, gamma1=gamma1):\n",
    "    \"\"\"\n",
    "    Input\n",
    "    y :\n",
    "    z : an input vector\n",
    "    gamma1 : Learning rate\n",
    "\n",
    "    Ouput\n",
    "    vector of proximal langrangian\n",
    "    \"\"\"\n",
    "\n",
    "    n = len(y)\n",
    "    e = np.ones(n)\n",
    "    lambda_temp = (gamma1 * np.sum(z) + np.sum(y)) / n\n",
    "    t = (-lambda_temp*e + gamma1*z + y)/(gamma1 + 1)\n",
    "\n",
    "    return t\n",
    "\n",
    "\n",
    "def douglas(z, gamma1=gamma1, max_iter=100, verbose=False):\n",
    "    \"\"\"\n",
    "    Input\n",
    "    z : an input vector\n",
    "    gamma1 : Learning rate\n",
    "    max_iter : number of iterations\n",
    "    Ouput\n",
    "    vector of proximal langrangian\n",
    "    \"\"\"\n",
    "\n",
    "    n = len(z)\n",
    "    u = np.ones(n)\n",
    "    v = np.zeros(n)\n",
    "\n",
    "    for i in range(max_iter):\n",
    "        v = prox_fenchel(u)\n",
    "        temp = 2*v - u\n",
    "        u = prox_lagrange(temp, z) - v + u\n",
    "        if verbose and not i % 10:\n",
    "            print(np.linalg.norm(v_old - v))\n",
    "        v_old = v\n",
    "\n",
    "    return np.reshape(v, (n,))\n",
    "\n",
    "\n",
    "def grad_f(z, X=X_train, y=y_train, alpha=alpha):\n",
    "    \"\"\"\n",
    "    Input\n",
    "    z : an input vector\n",
    "    X_train : training matrix\n",
    "    y_train : training outputs\n",
    "    alpha : parameter of the problem\n",
    "\n",
    "    Ouput\n",
    "    gradient vector\n",
    "    \"\"\"\n",
    "\n",
    "    n = len(z)\n",
    "    temp = (1/alpha) * np.dot(X, np.dot(X.T, z)) - y.flatten()\n",
    "\n",
    "    return np.reshape(temp, (n,))\n",
    "\n",
    "\n",
    "def f(z, X=X_train, y=y_train, alpha=alpha):\n",
    "    \"\"\"\n",
    "    Input\n",
    "    z : an input vector\n",
    "    X_train : training matrix\n",
    "    y_train : training outputs\n",
    "    alpha : parameter of the problem\n",
    "\n",
    "    Ouput\n",
    "    Objective function value\n",
    "    \"\"\"\n",
    "    res = (0.5/alpha) * np.linalg.norm(np.dot(X.T, z))**2 - np.dot(y.T, z)\n",
    "\n",
    "    return res[0]\n",
    "\n",
    "\n",
    "def proximal_gradient_descent(z0, gamma=gamma, X=X_train, y=y_train, max_iter=100, verbose=False):\n",
    "    \n",
    "    \"\"\"\n",
    "    Input\n",
    "    z0 : an input vector\n",
    "    gamma : Learning step\n",
    "    X_train : training matrix\n",
    "    y_train : training outputs\n",
    "    max_iter : number of iterations\n",
    "    eps : stopping criteria parameter\n",
    "    \n",
    "    Ouput\n",
    "    z : minimizer vector\n",
    "    err : distance between minimizer vectors at each iteration\n",
    "    obj : objective function value\n",
    "    epch : epoch\n",
    "    \"\"\"\n",
    "    \n",
    "\n",
    "    z = z0\n",
    "    n = X.shape[0]\n",
    "    err = []\n",
    "    obj = []\n",
    "    epch = []\n",
    "    if verbose:\n",
    "        print(\"Launching Proximal Gradient Descent...\")\n",
    "        print(' | '.join([name.center(8) for name in [\n",
    "              \"it\", \"norm(Z-Z_old)\", \"|f(Z)-f(Z_old)|\", \"f(z)\"]]))\n",
    "    for i in range(max_iter):\n",
    "        grad = grad_f(z, X_train, y_train)\n",
    "        u = z - gamma * grad\n",
    "        z_old = z\n",
    "        z = douglas(u.flatten())\n",
    "\n",
    "        if verbose and not (i+1) % 500:\n",
    "            epch.append(i+1)\n",
    "            err.append(np.linalg.norm(z-z_old))\n",
    "            obj.append(f(z))\n",
    "            print(' | '.join([(\"%d\" % (i+1)).rjust(8),\n",
    "                              (\"%.2e\" % np.linalg.norm(z-z_old)).rjust(13),\n",
    "                              (\"%.2e\" % abs(f(z) - f(z_old))).rjust(15), (\"%.2e\" % (-f(z))).rjust(8)]))\n",
    "    return z, err, obj, epch"
   ]
  },
  {
   "cell_type": "code",
   "execution_count": 111,
   "metadata": {},
   "outputs": [
    {
     "name": "stdout",
     "output_type": "stream",
     "text": [
      "1.0895325873762365e-05\n"
     ]
    }
   ],
   "source": [
    "#Check the gradient before running the algorithm \n",
    "print(check_grad(f,grad_f,z_init))"
   ]
  },
  {
   "cell_type": "markdown",
   "metadata": {},
   "source": [
    "#### Comment \n",
    "The gradient is valid"
   ]
  },
  {
   "cell_type": "code",
   "execution_count": 38,
   "metadata": {},
   "outputs": [
    {
     "name": "stdout",
     "output_type": "stream",
     "text": [
      "Launching Proximal Gradient Descent...\n",
      "   it    | norm(Z-Z_old) | |f(Z)-f(Z_old)| |   f(z)  \n",
      "     500 |      3.59e-03 |        6.76e-01 | 3.38e+02\n",
      "    1000 |      3.59e-03 |        6.76e-01 | 6.76e+02\n",
      "    1500 |      3.54e-03 |        6.57e-01 | 1.01e+03\n",
      "    2000 |      3.50e-03 |        6.44e-01 | 1.34e+03\n",
      "    2500 |      3.49e-03 |        6.41e-01 | 1.66e+03\n",
      "    3000 |      3.47e-03 |        6.33e-01 | 1.97e+03\n",
      "    3500 |      3.45e-03 |        6.26e-01 | 2.29e+03\n",
      "    4000 |      3.43e-03 |        6.20e-01 | 2.60e+03\n",
      "    4500 |      3.41e-03 |        6.13e-01 | 2.91e+03\n",
      "    5000 |      3.39e-03 |        6.05e-01 | 3.21e+03\n",
      "    5500 |      3.37e-03 |        5.96e-01 | 3.51e+03\n",
      "    6000 |      3.34e-03 |        5.86e-01 | 3.81e+03\n",
      "    6500 |      3.31e-03 |        5.76e-01 | 4.10e+03\n",
      "    7000 |      3.27e-03 |        5.64e-01 | 4.38e+03\n",
      "    7500 |      3.24e-03 |        5.51e-01 | 4.66e+03\n",
      "    8000 |      3.20e-03 |        5.38e-01 | 4.94e+03\n",
      "    8500 |      3.17e-03 |        5.27e-01 | 5.20e+03\n",
      "    9000 |      3.13e-03 |        5.14e-01 | 5.46e+03\n",
      "    9500 |      3.08e-03 |        5.00e-01 | 5.72e+03\n",
      "   10000 |      3.05e-03 |        4.87e-01 | 5.96e+03\n",
      "   10500 |      3.00e-03 |        4.72e-01 | 6.20e+03\n",
      "   11000 |      2.94e-03 |        4.56e-01 | 6.43e+03\n",
      "   11500 |      2.90e-03 |        4.41e-01 | 6.66e+03\n",
      "   12000 |      2.84e-03 |        4.25e-01 | 6.87e+03\n",
      "   12500 |      2.79e-03 |        4.09e-01 | 7.08e+03\n",
      "   13000 |      2.75e-03 |        3.96e-01 | 7.29e+03\n",
      "   13500 |      2.69e-03 |        3.80e-01 | 7.48e+03\n",
      "   14000 |      2.63e-03 |        3.64e-01 | 7.67e+03\n",
      "   14500 |      2.58e-03 |        3.49e-01 | 7.84e+03\n",
      "   15000 |      2.52e-03 |        3.34e-01 | 8.01e+03\n",
      "   15500 |      2.47e-03 |        3.21e-01 | 8.18e+03\n",
      "   16000 |      2.42e-03 |        3.08e-01 | 8.34e+03\n",
      "   16500 |      2.37e-03 |        2.95e-01 | 8.49e+03\n",
      "   17000 |      2.32e-03 |        2.83e-01 | 8.63e+03\n",
      "   17500 |      2.28e-03 |        2.72e-01 | 8.77e+03\n",
      "   18000 |      2.23e-03 |        2.62e-01 | 8.90e+03\n",
      "   18500 |      2.19e-03 |        2.53e-01 | 9.03e+03\n",
      "   19000 |      2.15e-03 |        2.43e-01 | 9.16e+03\n",
      "   19500 |      2.10e-03 |        2.33e-01 | 9.27e+03\n",
      "   20000 |      2.07e-03 |        2.26e-01 | 9.39e+03\n",
      "   20500 |      2.03e-03 |        2.18e-01 | 9.50e+03\n",
      "   21000 |      2.00e-03 |        2.09e-01 | 9.61e+03\n",
      "   21500 |      1.97e-03 |        2.03e-01 | 9.71e+03\n",
      "   22000 |      1.93e-03 |        1.97e-01 | 9.81e+03\n",
      "   22500 |      1.90e-03 |        1.91e-01 | 9.91e+03\n",
      "   23000 |      1.87e-03 |        1.84e-01 | 1.00e+04\n",
      "   23500 |      1.84e-03 |        1.77e-01 | 1.01e+04\n",
      "   24000 |      1.81e-03 |        1.71e-01 | 1.02e+04\n",
      "   24500 |      1.77e-03 |        1.66e-01 | 1.03e+04\n",
      "   25000 |      1.74e-03 |        1.59e-01 | 1.03e+04\n",
      "   25500 |      1.71e-03 |        1.54e-01 | 1.04e+04\n",
      "   26000 |      1.68e-03 |        1.48e-01 | 1.05e+04\n",
      "   26500 |      1.65e-03 |        1.44e-01 | 1.06e+04\n",
      "   27000 |      1.63e-03 |        1.40e-01 | 1.06e+04\n",
      "   27500 |      1.60e-03 |        1.35e-01 | 1.07e+04\n",
      "   28000 |      1.57e-03 |        1.30e-01 | 1.08e+04\n",
      "   28500 |      1.55e-03 |        1.26e-01 | 1.08e+04\n",
      "   29000 |      1.52e-03 |        1.22e-01 | 1.09e+04\n",
      "   29500 |      1.50e-03 |        1.18e-01 | 1.10e+04\n",
      "   30000 |      1.48e-03 |        1.14e-01 | 1.10e+04\n",
      "   30500 |      1.46e-03 |        1.11e-01 | 1.11e+04\n",
      "   31000 |      1.44e-03 |        1.08e-01 | 1.11e+04\n",
      "   31500 |      1.41e-03 |        1.05e-01 | 1.12e+04\n",
      "   32000 |      1.39e-03 |        1.01e-01 | 1.12e+04\n",
      "   32500 |      1.37e-03 |        9.81e-02 | 1.13e+04\n",
      "   33000 |      1.35e-03 |        9.52e-02 | 1.13e+04\n",
      "   33500 |      1.33e-03 |        9.23e-02 | 1.14e+04\n",
      "   34000 |      1.31e-03 |        8.99e-02 | 1.14e+04\n",
      "   34500 |      1.29e-03 |        8.73e-02 | 1.15e+04\n",
      "   35000 |      1.27e-03 |        8.48e-02 | 1.15e+04\n",
      "   35500 |      1.25e-03 |        8.24e-02 | 1.16e+04\n",
      "   36000 |      1.23e-03 |        7.99e-02 | 1.16e+04\n",
      "   36500 |      1.21e-03 |        7.71e-02 | 1.16e+04\n",
      "   37000 |      1.19e-03 |        7.43e-02 | 1.17e+04\n",
      "   37500 |      1.17e-03 |        7.20e-02 | 1.17e+04\n",
      "   38000 |      1.16e-03 |        7.02e-02 | 1.17e+04\n",
      "   38500 |      1.14e-03 |        6.84e-02 | 1.18e+04\n",
      "   39000 |      1.12e-03 |        6.64e-02 | 1.18e+04\n",
      "   39500 |      1.11e-03 |        6.49e-02 | 1.18e+04\n",
      "   40000 |      1.10e-03 |        6.31e-02 | 1.19e+04\n",
      "   40500 |      1.08e-03 |        6.14e-02 | 1.19e+04\n",
      "   41000 |      1.07e-03 |        5.97e-02 | 1.19e+04\n",
      "   41500 |      1.05e-03 |        5.80e-02 | 1.20e+04\n",
      "   42000 |      1.03e-03 |        5.63e-02 | 1.20e+04\n",
      "   42500 |      1.02e-03 |        5.48e-02 | 1.20e+04\n",
      "   43000 |      1.01e-03 |        5.32e-02 | 1.21e+04\n",
      "   43500 |      9.91e-04 |        5.16e-02 | 1.21e+04\n",
      "   44000 |      9.79e-04 |        5.04e-02 | 1.21e+04\n",
      "   44500 |      9.67e-04 |        4.91e-02 | 1.21e+04\n",
      "   45000 |      9.53e-04 |        4.78e-02 | 1.22e+04\n",
      "   45500 |      9.41e-04 |        4.65e-02 | 1.22e+04\n",
      "   46000 |      9.30e-04 |        4.55e-02 | 1.22e+04\n",
      "   46500 |      9.22e-04 |        4.47e-02 | 1.22e+04\n",
      "   47000 |      9.08e-04 |        4.33e-02 | 1.22e+04\n",
      "   47500 |      8.94e-04 |        4.20e-02 | 1.23e+04\n",
      "   48000 |      8.81e-04 |        4.08e-02 | 1.23e+04\n",
      "   48500 |      8.70e-04 |        3.97e-02 | 1.23e+04\n",
      "   49000 |      8.59e-04 |        3.88e-02 | 1.23e+04\n",
      "   49500 |      8.48e-04 |        3.78e-02 | 1.23e+04\n",
      "   50000 |      8.36e-04 |        3.67e-02 | 1.24e+04\n"
     ]
    }
   ],
   "source": [
    "#Run the first algorithm \n",
    "start_time_prox = time.time()\n",
    "z_final,err,obj_prox,epch_prox= proximal_gradient_descent(z_init,gamma=gamma,max_iter = 50000,verbose=True)\n",
    "end_time_prox = time.time()"
   ]
  },
  {
   "cell_type": "markdown",
   "metadata": {},
   "source": [
    "#### Visualization "
   ]
  },
  {
   "cell_type": "code",
   "execution_count": 44,
   "metadata": {},
   "outputs": [
    {
     "name": "stdout",
     "output_type": "stream",
     "text": [
      "The maximum value is = 12365.278926607134\n",
      "Time elapsed  = 65.12700118223826 min\n"
     ]
    },
    {
     "data": {
      "image/png": "[encoded data removed]",
      "text/plain": [
       "<Figure size 1152x288 with 2 Axes>"
      ]
     },
     "metadata": {
      "needs_background": "light"
     },
     "output_type": "display_data"
    }
   ],
   "source": [
    "plt.figure(figsize=(16, 4))\n",
    "\n",
    "plt.subplot(121)\n",
    "plt.title(\"Objective function\")\n",
    "plt.xlabel(\"epoch\")\n",
    "plt.plot(epch_prox, obj_prox)\n",
    "\n",
    "plt.subplot(122)\n",
    "plt.title(\"$||z_{k+1}-z_k||$\")\n",
    "plt.xlabel(\"epoch\")\n",
    "plt.plot(epch_prox, err)\n",
    "\n",
    "print(\"The maximum value is = \" + str(-obj_prox[-1]))\n",
    "print (\"Time elapsed  = \"+str((end_time_prox - start_time_prox)/60 )+ \" min\")"
   ]
  },
  {
   "cell_type": "markdown",
   "metadata": {},
   "source": [
    "#### Comment \n",
    "    \n",
    "   We can see from the visualizations above that running the proximal gradient descent converges for 50 000,the algorithm converges to the optimum which is about 1.23e04."
   ]
  },
  {
   "cell_type": "markdown",
   "metadata": {},
   "source": [
    "#### Second Algorithm\n",
    "<b>Uzawa Algorithm</b>\n",
    "</div>"
   ]
  },
  {
   "cell_type": "markdown",
   "metadata": {},
   "source": [
    "#### APPROACH\n",
    "<p> In order to apply Uzawa Algorithm,we are going to use the following expression defined in Question 3.2:\n",
    "$$  \\operatorname*{max}_{z \\in \\mathbb{R}^n} \\operatorname*{min}_{u \\in \\mathbb{R}} y^Tz -\\frac{1}{2\\alpha}\\Vert x^Tz \\Vert^2 - \\mathbb{L}_{\\tau}^*(z)-ue^Tz$$  </p>\n",
    "\n",
    "<p>This expression can be written as follows :\n",
    "$$  \\begin{aligned}\n",
    "\\operatorname*{max}_{z \\in \\mathbb{R}^n} \\operatorname*{min}_{u \\in \\mathbb{R}} y^Tz -\\frac{1}{2\\alpha}\\Vert x^Tz \\Vert^2 - \\mathbb{L}_{\\tau}^*(z)-ue^Tz\n",
    "&=-(-\\operatorname*{max}_{z \\in \\mathbb{R}^n}-(- \\operatorname*{min}_{u \\in \\mathbb{R}} y^Tz -\\frac{1}{2\\alpha}\\Vert x^Tz \\Vert^2 - \\mathbb{L}_{\\tau}^*(z)-ue^Tz)) \\\\\n",
    "&=-\\operatorname*{min}_{z \\in \\mathbb{R}^n}\\operatorname*{max}_{u \\in \\mathbb{R}} \\frac{1}{2\\alpha}\\Vert x^Tz \\Vert^2 -y^Tz +\\mathbb{L}_{\\tau}^*(z)+ue^Tz \\\\\n",
    "\\end{aligned}\n",
    "$$</p>\n",
    "<p>In this case our problem can be defined as follows :\n",
    "$$ \\operatorname*{min}_{z \\in \\mathbb{R}^n}\\operatorname*{max}_{u \\in \\mathbb{R}} \\frac{1}{2\\alpha}\\Vert x^Tz \\Vert^2 -y^Tz +\\mathbb{L}_{\\tau}^*(z)+ue^Tz $$ </p>\n",
    "<p> This problem can be is equivalent to the following problem : \n",
    "$$ \\begin{cases} \\operatorname*{min}_{z \\in \\mathbb{R}^n}\\frac{1}{2\\alpha}\\Vert x^Tz \\Vert^2 -y^Tz +\\mathbb{L}_{\\tau}^*(z) \\\\ \n",
    "  s.t\\enspace e^Tz = 0       \n",
    "\\end{cases}$$ </p>\n",
    "<p> Where the Langrangian can be defined as follows:\n",
    "$$ L(z,u) = \\frac{1}{2\\alpha}\\Vert x^Tz \\Vert^2 -y^Tz +\\mathbb{L}_{\\tau}^*(z)+ue^Tz$$\n",
    "<p> <b>Uzawa Algorithm</b> can defined as follows : \n",
    "    $$ z^{k+1} = \\operatorname*{min}_{z \\in \\mathbb{R}^n } L(z,u^{k})$$\n",
    "    $$ u^{k+1} = \\operatorname*{proj}_{\\mathbb{R}}(u^k + \\rho^k e^Tz^{k+1}) = u^k + \\rho^k e^Tz^{k+1} $$</p>\n",
    "    \n",
    "<p> In order to compute $z^{k+1}$ at each iteration, we are going to use proximal gradient descent.In this case we are going to define two functions :\n",
    "    $$ f(z) = \\frac{1}{2\\alpha}\\Vert x^Tz \\Vert^2 -y^Tz +ue^Tz $$\n",
    "    $$ g(z) = \\mathbb{L}_{\\tau}^*(z)$$ </p>\n",
    "<p>As we can see f is a differentiable function, so we can apply proximal gradient descent algorithm.</p>\n",
    "<p> For each iteration : \n",
    "    $$ z^{k+1} = prox_{\\gamma g}(z^{k} - \\gamma \\nabla f(z^{k})) = prox_{\\gamma L_{\\tau}^*}(z^{k} - \\gamma \\nabla f(z^{k}))  $$ "
   ]
  },
  {
   "cell_type": "markdown",
   "metadata": {},
   "source": [
    "#### Implementation of the Second Algorithm\n",
    "<b>Uzawa Algorithm</b>\n",
    "</div>"
   ]
  },
  {
   "cell_type": "code",
   "execution_count": 16,
   "metadata": {},
   "outputs": [],
   "source": [
    "def grad_f_uzawa(z, u, X=X_train, y=y_train, alpha=alpha):\n",
    "\n",
    "    \"\"\"\n",
    "    Input\n",
    "    z : an input vector\n",
    "    u: langrangian parameter\n",
    "    X_train : training matrix\n",
    "    y_train : training outputs\n",
    "    max_iter : number of iterations\n",
    "    alpha : parameter of the problem \n",
    "    \n",
    "    Ouput\n",
    "    Gradient vector \n",
    "    \"\"\"\n",
    "    \n",
    "    n = len(y)\n",
    "    e = np.ones(n)\n",
    "    temp = (1/alpha) * np.dot(X, np.dot(X.T, z)) - y.flatten() + u*e\n",
    "    return np.reshape(temp, (n,))\n",
    "\n",
    "\n",
    "def f_uzawa(z, u, X=X_train, y=y_train, alpha=alpha):\n",
    "    \n",
    "    \"\"\"\n",
    "    Input\n",
    "    z : an input vector\n",
    "    u: langrangian parameter\n",
    "    X_train : training matrix\n",
    "    y_train : training output\n",
    "    alpha : parameter of the problem \n",
    "    \n",
    "    Ouput\n",
    "    Objective function value\n",
    "    \"\"\"\n",
    "  \n",
    "    res = (0.5/alpha) * np.linalg.norm(np.dot(X.T, z))**2 - \\\n",
    "        np.dot(y.T, z) + u * np.sum(z)\n",
    "    return res[0]\n",
    "\n",
    "\n",
    "def uzawa(X=X_train, y=y_train, gamma=gamma, n_iter=100000, alpha=alpha, verbose=False,stopping_eps= 1e-6) :\n",
    "    \"\"\"\n",
    "    Input\n",
    "    X_train : training matrix\n",
    "    y_train : training outputs\n",
    "    gamma : learning rate\n",
    "    n_iter : number of iterations\n",
    "    alpha : parameter of the problem \n",
    "    \n",
    "    Ouput\n",
    "     \n",
    "    \"\"\"\n",
    "    \n",
    "    z = np.zeros(X.shape[0])\n",
    "    u = 1\n",
    "    err_u = []\n",
    "    err_z = []\n",
    "    obj = []\n",
    "    epch = []\n",
    "    n = X.shape[0]\n",
    "    if verbose:\n",
    "        print(\"Launching Uzawa...\")\n",
    "        print(' | '.join([name.center(8) for name in [\n",
    "              \"it\", \"norm(Z-Z_old)\", \"|u-u_old|\", \"f_uzawa(z)\"]]))\n",
    "\n",
    "    for i in range(n_iter):\n",
    "        z_old = z\n",
    "        u_old = u\n",
    "        z = prox_fenchel(z_old - gamma * grad_f_uzawa(z_old, u_old))\n",
    "        u = u_old + (1/(i+n)) * np.sum(z)\n",
    "\n",
    "        if  not (i+1) % 500:\n",
    "            obj.append(f_uzawa(z, u))\n",
    "            err_z.append(np.linalg.norm(z-z_old))\n",
    "            err_u.append(abs(u - u_old))\n",
    "            epch.append(i+1)\n",
    "            if verbose : \n",
    "                print(' | '.join([(\"%d\" % (i+1)).rjust(8),\n",
    "                              (\"%.2e\" % np.linalg.norm(z-z_old)).rjust(13),\n",
    "                              (\"%.2e\" % abs(u - u_old)).rjust(9), (\"%.2e\" % (-f_uzawa(z, u))).rjust(8)]))\n",
    "        \n",
    "    return z, u, obj, err_z, err_u, epch\n"
   ]
  },
  {
   "cell_type": "code",
   "execution_count": 45,
   "metadata": {
    "scrolled": true
   },
   "outputs": [
    {
     "name": "stdout",
     "output_type": "stream",
     "text": [
      "0.04771287071462269\n"
     ]
    }
   ],
   "source": [
    "#check gradient before running the algorithm \n",
    "print(check_grad(f_uzawa,grad_f_uzawa,z_init,u_init))\n"
   ]
  },
  {
   "cell_type": "markdown",
   "metadata": {},
   "source": [
    "#### Comment\n",
    "The gradient is valid"
   ]
  },
  {
   "cell_type": "code",
   "execution_count": 46,
   "metadata": {},
   "outputs": [
    {
     "name": "stdout",
     "output_type": "stream",
     "text": [
      "Launching Uzawa...\n",
      "   it    | norm(Z-Z_old) | |u-u_old| | f_uzawa(z)\n",
      "     500 |      4.32e-03 |  3.56e-03 | 2.35e+02\n",
      "    1000 |      3.91e-03 |  4.00e-03 | 7.51e+02\n",
      "    1500 |      5.45e-03 |  8.89e-04 | 1.06e+03\n",
      "    2000 |      4.59e-03 |  2.99e-03 | 1.23e+03\n",
      "    2500 |      3.62e-03 |  4.09e-03 | 1.70e+03\n",
      "    3000 |      5.28e-03 |  1.34e-03 | 2.04e+03\n",
      "    3500 |      4.70e-03 |  2.66e-03 | 2.18e+03\n",
      "    4000 |      3.51e-03 |  4.05e-03 | 2.64e+03\n",
      "    4500 |      5.19e-03 |  1.41e-03 | 2.98e+03\n",
      "    5000 |      4.63e-03 |  2.62e-03 | 3.11e+03\n",
      "    5500 |      3.48e-03 |  3.94e-03 | 3.56e+03\n",
      "    6000 |      5.18e-03 |  1.12e-03 | 3.87e+03\n",
      "    6500 |      4.36e-03 |  2.84e-03 | 3.99e+03\n",
      "    7000 |      3.55e-03 |  3.71e-03 | 4.45e+03\n",
      "    7500 |      5.18e-03 |  4.63e-04 | 4.69e+03\n",
      "    8000 |      3.87e-03 |  3.23e-03 | 4.84e+03\n",
      "    8500 |      3.85e-03 |  3.23e-03 | 5.30e+03\n",
      "    9000 |      5.06e-03 |  5.63e-04 | 5.43e+03\n",
      "    9500 |      3.25e-03 |  3.60e-03 | 5.66e+03\n",
      "   10000 |      4.38e-03 |  2.29e-03 | 6.07e+03\n",
      "   10500 |      4.55e-03 |  1.86e-03 | 6.11e+03\n",
      "   11000 |      3.00e-03 |  3.57e-03 | 6.47e+03\n",
      "   11500 |      4.79e-03 |  7.34e-04 | 6.70e+03\n",
      "   12000 |      3.49e-03 |  3.05e-03 | 6.78e+03\n",
      "   12500 |      3.71e-03 |  2.69e-03 | 7.18e+03\n",
      "   13000 |      4.48e-03 |  1.27e-03 | 7.22e+03\n",
      "   13500 |      2.71e-03 |  3.44e-03 | 7.49e+03\n",
      "   14000 |      4.52e-03 |  7.05e-04 | 7.71e+03\n",
      "   14500 |      3.10e-03 |  2.96e-03 | 7.76e+03\n",
      "   15000 |      3.72e-03 |  2.24e-03 | 8.11e+03\n",
      "   15500 |      3.92e-03 |  1.83e-03 | 8.09e+03\n",
      "   16000 |      2.73e-03 |  3.01e-03 | 8.40e+03\n",
      "   16500 |      4.28e-03 |  4.69e-04 | 8.46e+03\n",
      "   17000 |      2.33e-03 |  3.16e-03 | 8.62e+03\n",
      "   17500 |      4.12e-03 |  7.05e-04 | 8.81e+03\n",
      "   18000 |      2.61e-03 |  2.82e-03 | 8.84e+03\n",
      "   18500 |      3.68e-03 |  1.60e-03 | 9.11e+03\n",
      "   19000 |      3.09e-03 |  2.31e-03 | 9.07e+03\n",
      "   19500 |      3.12e-03 |  2.14e-03 | 9.36e+03\n",
      "   20000 |      3.40e-03 |  1.73e-03 | 9.30e+03\n",
      "   20500 |      2.67e-03 |  2.47e-03 | 9.58e+03\n",
      "   21000 |      3.58e-03 |  1.27e-03 | 9.54e+03\n",
      "   21500 |      2.32e-03 |  2.58e-03 | 9.77e+03\n",
      "   22000 |      3.62e-03 |  9.06e-04 | 9.76e+03\n",
      "   22500 |      2.12e-03 |  2.63e-03 | 9.95e+03\n",
      "   23000 |      3.61e-03 |  7.01e-04 | 9.96e+03\n",
      "   23500 |      1.98e-03 |  2.57e-03 | 1.01e+04\n",
      "   24000 |      3.53e-03 |  6.20e-04 | 1.01e+04\n",
      "   24500 |      1.94e-03 |  2.52e-03 | 1.03e+04\n",
      "   25000 |      3.43e-03 |  6.86e-04 | 1.03e+04\n",
      "   25500 |      1.92e-03 |  2.39e-03 | 1.05e+04\n",
      "   26000 |      3.28e-03 |  8.55e-04 | 1.04e+04\n",
      "   26500 |      2.04e-03 |  2.26e-03 | 1.06e+04\n",
      "   27000 |      3.08e-03 |  1.14e-03 | 1.06e+04\n",
      "   27500 |      2.23e-03 |  2.01e-03 | 1.08e+04\n",
      "   28000 |      2.76e-03 |  1.45e-03 | 1.07e+04\n",
      "   28500 |      2.53e-03 |  1.69e-03 | 1.09e+04\n",
      "   29000 |      2.35e-03 |  1.80e-03 | 1.08e+04\n",
      "   29500 |      2.83e-03 |  1.18e-03 | 1.10e+04\n",
      "   30000 |      1.83e-03 |  2.07e-03 | 1.10e+04\n",
      "   30500 |      3.05e-03 |  5.62e-04 | 1.11e+04\n",
      "   31000 |      1.46e-03 |  2.19e-03 | 1.11e+04\n",
      "   31500 |      3.05e-03 |  1.84e-04 | 1.12e+04\n",
      "   32000 |      1.55e-03 |  2.06e-03 | 1.13e+04\n",
      "   32500 |      2.74e-03 |  9.45e-04 | 1.12e+04\n",
      "   33000 |      2.12e-03 |  1.65e-03 | 1.14e+04\n",
      "   33500 |      2.12e-03 |  1.59e-03 | 1.13e+04\n",
      "   34000 |      2.65e-03 |  8.98e-04 | 1.15e+04\n",
      "   34500 |      1.40e-03 |  1.95e-03 | 1.14e+04\n",
      "   35000 |      2.83e-03 |  3.88e-05 | 1.15e+04\n",
      "   35500 |      1.44e-03 |  1.88e-03 | 1.16e+04\n",
      "   36000 |      2.45e-03 |  9.93e-04 | 1.15e+04\n",
      "   36500 |      2.14e-03 |  1.29e-03 | 1.17e+04\n",
      "   37000 |      1.61e-03 |  1.67e-03 | 1.16e+04\n",
      "   37500 |      2.63e-03 |  3.28e-04 | 1.17e+04\n",
      "   38000 |      1.21e-03 |  1.80e-03 | 1.18e+04\n",
      "   38500 |      2.39e-03 |  7.72e-04 | 1.17e+04\n",
      "   39000 |      1.95e-03 |  1.27e-03 | 1.19e+04\n",
      "   39500 |      1.52e-03 |  1.56e-03 | 1.18e+04\n",
      "   40000 |      2.50e-03 |  2.41e-04 | 1.19e+04\n",
      "   40500 |      1.20e-03 |  1.66e-03 | 1.19e+04\n",
      "   41000 |      2.15e-03 |  9.00e-04 | 1.19e+04\n",
      "   41500 |      2.04e-03 |  9.76e-04 | 1.20e+04\n",
      "   42000 |      1.17e-03 |  1.57e-03 | 1.20e+04\n",
      "   42500 |      2.36e-03 |  1.88e-04 | 1.20e+04\n",
      "   43000 |      1.44e-03 |  1.39e-03 | 1.21e+04\n",
      "   43500 |      1.63e-03 |  1.22e-03 | 1.20e+04\n",
      "   44000 |      2.21e-03 |  3.86e-04 | 1.21e+04\n",
      "   44500 |      1.02e-03 |  1.49e-03 | 1.21e+04\n",
      "   45000 |      1.93e-03 |  8.28e-04 | 1.21e+04\n",
      "   45500 |      1.93e-03 |  8.03e-04 | 1.22e+04\n",
      "   46000 |      9.74e-04 |  1.44e-03 | 1.22e+04\n",
      "   46500 |      2.06e-03 |  4.54e-04 | 1.22e+04\n",
      "   47000 |      1.62e-03 |  1.01e-03 | 1.23e+04\n",
      "   47500 |      1.09e-03 |  1.32e-03 | 1.22e+04\n",
      "   48000 |      2.07e-03 |  1.79e-04 | 1.23e+04\n",
      "   48500 |      1.37e-03 |  1.13e-03 | 1.23e+04\n",
      "   49000 |      1.22e-03 |  1.18e-03 | 1.23e+04\n",
      "   49500 |      2.00e-03 |  1.04e-05 | 1.23e+04\n",
      "   50000 |      1.20e-03 |  1.13e-03 | 1.24e+04\n"
     ]
    }
   ],
   "source": [
    "#Run the second algorithm \n",
    "start_time_uzawa = time.time()\n",
    "z_uzawa,u_uzawa,obj_uzawa,err_z,err_u,epch= uzawa(n_iter=50000,verbose= True )\n",
    "end_time_uzawa = time.time()"
   ]
  },
  {
   "cell_type": "markdown",
   "metadata": {},
   "source": [
    "####  Visualization "
   ]
  },
  {
   "cell_type": "code",
   "execution_count": 47,
   "metadata": {},
   "outputs": [
    {
     "name": "stdout",
     "output_type": "stream",
     "text": [
      "The maximum value is = 12398.579172179187\n",
      "Time elapsed  = 1.048997664451599 min\n"
     ]
    },
    {
     "data": {
      "image/png": "[encoded data removed]",
      "text/plain": [
       "<Figure size 1152x720 with 3 Axes>"
      ]
     },
     "metadata": {
      "needs_background": "light"
     },
     "output_type": "display_data"
    }
   ],
   "source": [
    "plt.figure(figsize=(16, 10))\n",
    "\n",
    "plt.subplot(221)\n",
    "plt.title(\"$||z_{k+1}-z_k||$\")\n",
    "plt.xlabel(\"epoch\")\n",
    "plt.plot(epch, err_z)\n",
    "\n",
    "plt.subplot(222)\n",
    "plt.title(\"$|u_{k+1}-u_k|$\")\n",
    "plt.xlabel(\"epoch\")\n",
    "plt.plot(epch, err_u)\n",
    "\n",
    "plt.subplot(223)\n",
    "plt.title(\"Objective function\")\n",
    "plt.xlabel(\"epoch\")\n",
    "plt.plot(epch, obj_uzawa)\n",
    "print(\"The maximum value is = \" + str(-obj_uzawa[-1]))\n",
    "print (\"Time elapsed  = \"+str((end_time_uzawa - start_time_uzawa)/60 )+ \" min\")"
   ]
  },
  {
   "cell_type": "markdown",
   "metadata": {},
   "source": [
    "#### Comment \n",
    "    \n",
    "Running the uzawa algorithm with 50 000 epochs we can see that it converges since $||z_{k+1}-z_k||$ and $|u_{k+1}-u_k|$ are almost zero and the objective function has decreased  and we also find a close  value the one found by the proximal gradient descent.\n",
    "We can see also that the objective function did not stop decreasing which means we did not find the optimum yet.Here we can see that we need a good stopping criteria in order to get an accurate optimum which we will do in the next question."
   ]
  },
  {
   "cell_type": "markdown",
   "metadata": {},
   "source": [
    "#### Benchmark\n",
    "<b>1st vs 2nd Algorithm</b>\n",
    "</div>"
   ]
  },
  {
   "cell_type": "code",
   "execution_count": 59,
   "metadata": {},
   "outputs": [
    {
     "data": {
      "image/png": "[encoded data removed]",
      "text/plain": [
       "<Figure size 1080x576 with 2 Axes>"
      ]
     },
     "metadata": {
      "needs_background": "light"
     },
     "output_type": "display_data"
    }
   ],
   "source": [
    "plt.figure(figsize = (15,8))\n",
    "plt.subplot(121)\n",
    "plt.title(\"Objective function\")\n",
    "plt.xlabel(\"epoch\")\n",
    "plt.plot(epch, obj_uzawa ,label=\"uzawa\")\n",
    "plt.plot(epch_prox, obj_prox,label =\"Proximal Gradient Descent\")\n",
    "plt.legend()\n",
    "plt.subplot(122)\n",
    "plt.title(\"Time elapsed for 50k epochs\")\n",
    "plt.bar([\"Proximal Gradient Descent\",\"Uzawa\"] ,[(end_time_prox - start_time_prox)/60,(end_time_uzawa - start_time_uzawa)/60 ] )\n",
    "plt.ylabel(\"Time in minutes\")\n",
    "plt.show()"
   ]
  },
  {
   "cell_type": "markdown",
   "metadata": {},
   "source": [
    "#### Comment \n",
    "    \n",
    "We notice that both of the algorthims converge with a close rate except The Proximal Gradient Descent is taking over 60 times more time for the same number of epochs ,this is due to nested loops basically because of the Douglas-Rachford algorithm."
   ]
  },
  {
   "cell_type": "markdown",
   "metadata": {},
   "source": [
    "#### Question 3.2\n",
    "Define a stopping criterion. Why did you choose it?"
   ]
  },
  {
   "cell_type": "markdown",
   "metadata": {},
   "source": [
    "#### ANSWER \n",
    "<p>  As the optimum is unknown for both algorithms, we are going to define the following stopping criteria : </p>\n",
    "<p>\n",
    "    $\\bullet$ <b> StoppingCriteria : Distance to the Minimum (or Maximum) : </b> </p>\n",
    "<p> $$ \\vert f(z^{k+1}) - f(z^k) \\vert < \\epsilon $$ $\\enspace$ where $\\epsilon $ is the tolerance parameter </p>\n",
    "    \n",
    "<p> $\\bullet$ The first criteria is a standard method as a stopping criteria </p>"
   ]
  },
  {
   "cell_type": "markdown",
   "metadata": {},
   "source": [
    "#### First Stopping Criteria\n",
    "$$ \\vert f(z^{k+1}) - f(z^k) \\vert < \\epsilon $$\n",
    "    Implementation of the uzawa algorithm with the stopping criteria where $\\epsilon$ = 1e-06\n",
    "</div>\n"
   ]
  },
  {
   "cell_type": "markdown",
   "metadata": {},
   "source": [
    "####  NB \n",
    "We are going to test the stopping criteria only on Uzawa algorithm,as Proximal Gradient Douglas algorithm takes too much time to converge "
   ]
  },
  {
   "cell_type": "code",
   "execution_count": 75,
   "metadata": {},
   "outputs": [],
   "source": [
    "\n",
    "def uzawa(X=X_train, y=y_train, gamma=gamma, alpha=alpha, verbose=False,eps= 1e-6) :\n",
    "    \"\"\"\n",
    "    Input\n",
    "    X_train : training matrix\n",
    "    y_train : training outputs\n",
    "    gamma : learning rate\n",
    "    n_iter : number of iterations\n",
    "    alpha : parameter of the problem \n",
    "    \n",
    "    Ouput\n",
    "    z : primal minimizer\n",
    "    u: dual maximizer\n",
    "    obj : objective function value\n",
    "    err_z : distance between primal minimizers vectors at each iteration\n",
    "    err_u : distance between dual maximizers at each iteration\n",
    "    epch : epoch\n",
    "     \n",
    "    \"\"\"\n",
    "    \n",
    "    z = np.zeros(X.shape[0])\n",
    "    u = 1\n",
    "    err_u = []\n",
    "    err_z = []\n",
    "    obj = []\n",
    "    epch = []\n",
    "    n = X.shape[0]\n",
    "    if verbose:\n",
    "        print(\"Launching Uzawa...\")\n",
    "        print(' | '.join([name.center(8) for name in [\n",
    "              \"it\", \"norm(Z-Z_old)\", \"|u-u_old|\", \"|f_k+1 - f_k|\"]]))\n",
    "    i = 1\n",
    "    z_old = z\n",
    "    u_old = u\n",
    "    z = prox_fenchel(z_old - gamma * grad_f_uzawa(z_old, u_old))\n",
    "    u = u_old + (1/(i+n)) * np.sum(z)\n",
    "   \n",
    "    \n",
    "    while (abs(f_uzawa(z,u) - f_uzawa(z_old,u_old)) >=eps):\n",
    "        z_old = z\n",
    "        u_old = u\n",
    "        z = prox_fenchel(z_old - gamma * grad_f_uzawa(z_old, u_old))\n",
    "        u = u_old + (1/(i+n)) * np.sum(z)\n",
    "        i+= 1\n",
    "        \n",
    "        if  not (i+1) % 5000:\n",
    "            obj.append(f_uzawa(z, u))\n",
    "            err_z.append(np.linalg.norm(z-z_old))\n",
    "            err_u.append(abs(u - u_old))\n",
    "            epch.append(i+1)\n",
    "            if verbose : \n",
    "                print(' | '.join([(\"%d\" % (i+1)).rjust(8),\n",
    "                              (\"%.2e\" % np.linalg.norm(z-z_old)).rjust(13),\n",
    "                              (\"%.2e\" % abs(u - u_old)).rjust(9), (\"%.2e\" % abs(f_uzawa(z,u) - f_uzawa(z_old,u_old))).rjust(8)]))\n",
    "    \n",
    "    if verbose : \n",
    "        print(\"............Stopping criteria is valid at epoch \"+str(i)+ \"............\")\n",
    "    return z, u, obj, err_z, err_u, epch\n"
   ]
  },
  {
   "cell_type": "code",
   "execution_count": 77,
   "metadata": {},
   "outputs": [
    {
     "name": "stdout",
     "output_type": "stream",
     "text": [
      "Launching Uzawa...\n",
      "   it    | norm(Z-Z_old) | |u-u_old| | |f_k+1 - f_k|\n",
      "    5000 |      4.62e-03 |  2.63e-03 | 7.40e-01\n",
      "   10000 |      4.39e-03 |  2.28e-03 | 6.99e-01\n",
      "   15000 |      3.72e-03 |  2.23e-03 | 4.03e-01\n",
      "   20000 |      3.39e-03 |  1.74e-03 | 3.92e-01\n",
      "   25000 |      3.43e-03 |  6.94e-04 | 5.82e-01\n",
      "   30000 |      1.83e-03 |  2.07e-03 | 1.69e-01\n",
      "   35000 |      2.83e-03 |  4.41e-05 | 4.22e-01\n",
      "   40000 |      2.50e-03 |  2.37e-04 | 3.24e-01\n",
      "   45000 |      1.93e-03 |  8.31e-04 | 1.30e-01\n",
      "   50000 |      1.20e-03 |  1.13e-03 | 5.25e-02\n",
      "   55000 |      1.01e-03 |  1.02e-03 | 5.60e-02\n",
      "   60000 |      1.21e-03 |  7.16e-04 | 2.10e-02\n",
      "   65000 |      9.24e-04 |  7.41e-04 | 1.84e-02\n",
      "   70000 |      5.62e-04 |  7.76e-04 | 5.59e-02\n",
      "   75000 |      1.15e-03 |  2.04e-04 | 6.48e-02\n",
      "   80000 |      5.50e-04 |  6.00e-04 | 3.10e-02\n",
      "   85000 |      1.00e-03 |  1.08e-05 | 5.27e-02\n",
      "   90000 |      6.58e-04 |  3.93e-04 | 1.00e-03\n",
      "   95000 |      3.64e-04 |  4.64e-04 | 2.43e-02\n",
      "............Stopping criteria is valid at epoch 95600............\n"
     ]
    }
   ],
   "source": [
    "z_uzawa_stp,u_uzawa_stp,obj_uzawa_stp,err_z_stp,err_u_stp,epch_stp= uzawa(eps= 1e-6 ,verbose= True )"
   ]
  },
  {
   "cell_type": "markdown",
   "metadata": {},
   "source": [
    "#### Question 3.2\n",
    "Compare the performance of the algorithms you implemented on the census dataset with\n",
    "$\\tau$ = 0.7 and test size=0.33."
   ]
  },
  {
   "cell_type": "code",
   "execution_count": 3,
   "metadata": {},
   "outputs": [
    {
     "name": "stdout",
     "output_type": "stream",
     "text": [
      "Data shape is : (3375042, 10)\n"
     ]
    }
   ],
   "source": [
    "X_train, X_test, y_train, y_test = load_data(test_size=0.33)\n",
    "print('Data shape is :',X_train.shape)"
   ]
  },
  {
   "cell_type": "markdown",
   "metadata": {},
   "source": [
    "#### Comment \n",
    "For 0.33 ,the problem requires better cpu performance than ours, since 100 iterations in uzawa algorithm consumes about 5 min\n",
    "an access to a cloud server could have given us an idea about the performance since 0.33 of the data is a huge amount for our pc (about 3.3 1e6 row).\n",
    "However,as we can see both algorithms converge to the solution.However Uzawa algorithm takes less time than Proximal Gradient Douglas algorithm"
   ]
  },
  {
   "cell_type": "code",
   "execution_count": null,
   "metadata": {},
   "outputs": [],
   "source": []
  }
 ],
 "metadata": {
  "colab": {
   "name": "Lab1.ipynb",
   "provenance": []
  },
  "kernelspec": {
   "display_name": "Python 3",
   "language": "python",
   "name": "python3"
  },
  "language_info": {
   "codemirror_mode": {
    "name": "ipython",
    "version": 3
   },
   "file_extension": ".py",
   "mimetype": "text/x-python",
   "name": "python",
   "nbconvert_exporter": "python",
   "pygments_lexer": "ipython3",
   "version": "3.8.3"
  }
 },
 "nbformat": 4,
 "nbformat_minor": 1
}
